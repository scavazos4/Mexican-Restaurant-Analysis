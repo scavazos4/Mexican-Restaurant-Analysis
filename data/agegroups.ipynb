{
 "cells": [
  {
   "cell_type": "code",
   "execution_count": null,
   "source": [
    "import pandas as pd\r\n",
    "import json\r\n",
    "import requests\r\n",
    "\r\n"
   ],
   "outputs": [],
   "metadata": {}
  },
  {
   "cell_type": "code",
   "execution_count": null,
   "source": [
    "#we will now create dataframes for gender and later age\r\n",
    "\r\n",
    "# 19 = Under 18 years  \r\n",
    "# 20 = 5 to 13 years  \r\n",
    "# 21 = 14 to 17 years  \r\n",
    "# 22 = 18 to 64 years  \r\n",
    "# 23 = 18 to 24 years  \r\n",
    "# 24 = 25 to 44 years  \r\n",
    "# 25 = 45 to 64 years  \r\n",
    "# 26 = 65 years and over  "
   ],
   "outputs": [],
   "metadata": {}
  },
  {
   "cell_type": "code",
   "execution_count": null,
   "source": [
    "\r\n",
    "r = requests.get(\"https://api.census.gov/data/2019/pep/charagegroups?get=NAME,POP&AGEGROUP=19&for=state:*&key=64f1dfb2f21e446d237909b1045fcde98e66d4f8\")\r\n",
    "x = r.json()\r\n",
    "\r\n",
    "df1 = pd.DataFrame(x)\r\n",
    "df1 = df1.rename(columns=df1.iloc[0])\r\n",
    "df1.head()"
   ],
   "outputs": [],
   "metadata": {}
  }
 ],
 "metadata": {
  "orig_nbformat": 4,
  "language_info": {
   "name": "python"
  }
 },
 "nbformat": 4,
 "nbformat_minor": 2
}