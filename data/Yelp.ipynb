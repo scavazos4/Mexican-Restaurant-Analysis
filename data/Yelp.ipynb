{
 "cells": [
  {
   "cell_type": "code",
   "execution_count": 16,
   "source": [
    "import pandas as pd\r\n",
    "import json\r\n",
    "import requests\r\n",
    "import numpy as np\r\n",
    "import seaborn as sns\r\n",
    "import matplotlib.pyplot as plt\r\n",
    "import pprint as pp"
   ],
   "outputs": [],
   "metadata": {}
  },
  {
   "cell_type": "code",
   "execution_count": 5,
   "source": [
    "APIyelp = \"PnCaCClu_oaMrigxA4QIQILSm_-IZtvKAJur803egyHClYLF1A93_cEYvgBY8Na2fpa65VSTjDtofak2coDyz3iUCQHuhL6Y3rRN6mnfIBzRhgKLu5bwmzq6A_8CYXYx\""
   ],
   "outputs": [],
   "metadata": {}
  },
  {
   "cell_type": "code",
   "execution_count": 39,
   "source": [
    "table1 = pd.read_csv(\"hispanicData.csv\")\r\n",
    "table1.head()\r\n"
   ],
   "outputs": [
    {
     "output_type": "execute_result",
     "data": {
      "text/plain": [
       "   Unnamed: 0 code  total_POP  nonHispanic_POP   latitude   longitude  \\\n",
       "0           0   AK     731545           678333  63.588753 -154.493062   \n",
       "1           1   AL    4903185          4679907  32.318231  -86.902298   \n",
       "2           2   AR    3017804          2781173  35.201050  -91.831833   \n",
       "3           3   AZ    7278717          4968127  34.048928 -111.093731   \n",
       "4           4   CA   39512223         23937343  36.778261 -119.417932   \n",
       "\n",
       "         NAME  Hispanic_POP  Percent_Hispanic  \n",
       "0      Alaska         53212          0.072739  \n",
       "1     Alabama        223278          0.045537  \n",
       "2    Arkansas        236631          0.078412  \n",
       "3     Arizona       2310590          0.317445  \n",
       "4  California      15574880          0.394179  "
      ],
      "text/html": [
       "<div>\n",
       "<style scoped>\n",
       "    .dataframe tbody tr th:only-of-type {\n",
       "        vertical-align: middle;\n",
       "    }\n",
       "\n",
       "    .dataframe tbody tr th {\n",
       "        vertical-align: top;\n",
       "    }\n",
       "\n",
       "    .dataframe thead th {\n",
       "        text-align: right;\n",
       "    }\n",
       "</style>\n",
       "<table border=\"1\" class=\"dataframe\">\n",
       "  <thead>\n",
       "    <tr style=\"text-align: right;\">\n",
       "      <th></th>\n",
       "      <th>Unnamed: 0</th>\n",
       "      <th>code</th>\n",
       "      <th>total_POP</th>\n",
       "      <th>nonHispanic_POP</th>\n",
       "      <th>latitude</th>\n",
       "      <th>longitude</th>\n",
       "      <th>NAME</th>\n",
       "      <th>Hispanic_POP</th>\n",
       "      <th>Percent_Hispanic</th>\n",
       "    </tr>\n",
       "  </thead>\n",
       "  <tbody>\n",
       "    <tr>\n",
       "      <th>0</th>\n",
       "      <td>0</td>\n",
       "      <td>AK</td>\n",
       "      <td>731545</td>\n",
       "      <td>678333</td>\n",
       "      <td>63.588753</td>\n",
       "      <td>-154.493062</td>\n",
       "      <td>Alaska</td>\n",
       "      <td>53212</td>\n",
       "      <td>0.072739</td>\n",
       "    </tr>\n",
       "    <tr>\n",
       "      <th>1</th>\n",
       "      <td>1</td>\n",
       "      <td>AL</td>\n",
       "      <td>4903185</td>\n",
       "      <td>4679907</td>\n",
       "      <td>32.318231</td>\n",
       "      <td>-86.902298</td>\n",
       "      <td>Alabama</td>\n",
       "      <td>223278</td>\n",
       "      <td>0.045537</td>\n",
       "    </tr>\n",
       "    <tr>\n",
       "      <th>2</th>\n",
       "      <td>2</td>\n",
       "      <td>AR</td>\n",
       "      <td>3017804</td>\n",
       "      <td>2781173</td>\n",
       "      <td>35.201050</td>\n",
       "      <td>-91.831833</td>\n",
       "      <td>Arkansas</td>\n",
       "      <td>236631</td>\n",
       "      <td>0.078412</td>\n",
       "    </tr>\n",
       "    <tr>\n",
       "      <th>3</th>\n",
       "      <td>3</td>\n",
       "      <td>AZ</td>\n",
       "      <td>7278717</td>\n",
       "      <td>4968127</td>\n",
       "      <td>34.048928</td>\n",
       "      <td>-111.093731</td>\n",
       "      <td>Arizona</td>\n",
       "      <td>2310590</td>\n",
       "      <td>0.317445</td>\n",
       "    </tr>\n",
       "    <tr>\n",
       "      <th>4</th>\n",
       "      <td>4</td>\n",
       "      <td>CA</td>\n",
       "      <td>39512223</td>\n",
       "      <td>23937343</td>\n",
       "      <td>36.778261</td>\n",
       "      <td>-119.417932</td>\n",
       "      <td>California</td>\n",
       "      <td>15574880</td>\n",
       "      <td>0.394179</td>\n",
       "    </tr>\n",
       "  </tbody>\n",
       "</table>\n",
       "</div>"
      ]
     },
     "metadata": {},
     "execution_count": 39
    }
   ],
   "metadata": {}
  },
  {
   "cell_type": "code",
   "execution_count": 41,
   "source": [
    "states = table1[\"NAME\"].tolist()\r\n",
    "states"
   ],
   "outputs": [
    {
     "output_type": "execute_result",
     "data": {
      "text/plain": [
       "['Alaska',\n",
       " 'Alabama',\n",
       " 'Arkansas',\n",
       " 'Arizona',\n",
       " 'California',\n",
       " 'Colorado',\n",
       " 'Connecticut',\n",
       " 'District of Columbia',\n",
       " 'Delaware',\n",
       " 'Florida',\n",
       " 'Georgia',\n",
       " 'Hawaii',\n",
       " 'Iowa',\n",
       " 'Idaho',\n",
       " 'Illinois',\n",
       " 'Indiana',\n",
       " 'Kansas',\n",
       " 'Kentucky',\n",
       " 'Louisiana',\n",
       " 'Massachusetts',\n",
       " 'Maryland',\n",
       " 'Maine',\n",
       " 'Michigan',\n",
       " 'Minnesota',\n",
       " 'Missouri',\n",
       " 'Mississippi',\n",
       " 'Montana',\n",
       " 'North Carolina',\n",
       " 'North Dakota',\n",
       " 'Nebraska',\n",
       " 'New Hampshire',\n",
       " 'New Jersey',\n",
       " 'New Mexico',\n",
       " 'Nevada',\n",
       " 'New York',\n",
       " 'Ohio',\n",
       " 'Oklahoma',\n",
       " 'Oregon',\n",
       " 'Pennsylvania',\n",
       " 'Rhode Island',\n",
       " 'South Carolina',\n",
       " 'South Dakota',\n",
       " 'Tennessee',\n",
       " 'Texas',\n",
       " 'Utah',\n",
       " 'Virginia',\n",
       " 'Vermont',\n",
       " 'Washington',\n",
       " 'Wisconsin',\n",
       " 'West Virginia',\n",
       " 'Wyoming']"
      ]
     },
     "metadata": {},
     "execution_count": 41
    }
   ],
   "metadata": {}
  },
  {
   "cell_type": "code",
   "execution_count": 47,
   "source": [
    "MexicanRestaurants = []\r\n",
    "\r\n",
    "\r\n",
    "for state in states:\r\n",
    "    headers = {'authorization': 'Bearer {}'.format(APIyelp)}\r\n",
    "    search_api_url = 'https://api.yelp.com/v3/businesses/search'\r\n",
    "    params = {  'term': 'mexican',\r\n",
    "                'location': state,\r\n",
    "                'rating': 5,\r\n",
    "                'limit': 50\r\n",
    "            }\r\n",
    "    r =requests.get(search_api_url, headers=headers, params=params, timeout=5)\r\n",
    "    MexicanRestaurants.append(r.json())\r\n",
    "\r\n",
    "TotalMexicanRestaurants = MexicanRestaurants\r\n"
   ],
   "outputs": [],
   "metadata": {}
  },
  {
   "cell_type": "code",
   "execution_count": 51,
   "source": [
    "with open('restaurants.json', 'w') as outfile:\r\n",
    "    json.dump(TotalMexicanRestaurants, outfile)\r\n"
   ],
   "outputs": [],
   "metadata": {}
  },
  {
   "cell_type": "code",
   "execution_count": null,
   "source": [],
   "outputs": [],
   "metadata": {}
  }
 ],
 "metadata": {
  "orig_nbformat": 4,
  "language_info": {
   "name": "python",
   "version": "3.8.5",
   "mimetype": "text/x-python",
   "codemirror_mode": {
    "name": "ipython",
    "version": 3
   },
   "pygments_lexer": "ipython3",
   "nbconvert_exporter": "python",
   "file_extension": ".py"
  },
  "kernelspec": {
   "name": "python3",
   "display_name": "Python 3.8.5 64-bit ('base': conda)"
  },
  "interpreter": {
   "hash": "f7179aea14dd5075a731b305ca6ff68d84341ee23aaa70819931ae72b6c1c274"
  }
 },
 "nbformat": 4,
 "nbformat_minor": 2
}