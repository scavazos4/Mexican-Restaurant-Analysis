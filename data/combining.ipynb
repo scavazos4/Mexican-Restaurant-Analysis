{
 "metadata": {
  "language_info": {
   "codemirror_mode": {
    "name": "ipython",
    "version": 3
   },
   "file_extension": ".py",
   "mimetype": "text/x-python",
   "name": "python",
   "nbconvert_exporter": "python",
   "pygments_lexer": "ipython3",
   "version": "3.8.5"
  },
  "orig_nbformat": 4,
  "kernelspec": {
   "name": "python3",
   "display_name": "Python 3.8.5 64-bit ('base': conda)"
  },
  "interpreter": {
   "hash": "f7179aea14dd5075a731b305ca6ff68d84341ee23aaa70819931ae72b6c1c274"
  }
 },
 "nbformat": 4,
 "nbformat_minor": 2,
 "cells": [
  {
   "cell_type": "code",
   "execution_count": 115,
   "metadata": {},
   "outputs": [],
   "source": [
    "import pandas as pd\n",
    "import json\n",
    "import requests"
   ]
  },
  {
   "cell_type": "code",
   "execution_count": 116,
   "metadata": {},
   "outputs": [],
   "source": [
    "df1=pd.read_csv(\"usa_states_latlong.csv\")"
   ]
  },
  {
   "cell_type": "code",
   "execution_count": 117,
   "metadata": {},
   "outputs": [
    {
     "output_type": "execute_result",
     "data": {
      "text/plain": [
       "  code   latitude   longitude       state\n",
       "0   AK  63.588753 -154.493062      Alaska\n",
       "1   AL  32.318231  -86.902298     Alabama\n",
       "2   AR  35.201050  -91.831833    Arkansas\n",
       "3   AZ  34.048928 -111.093731     Arizona\n",
       "4   CA  36.778261 -119.417932  California"
      ],
      "text/html": "<div>\n<style scoped>\n    .dataframe tbody tr th:only-of-type {\n        vertical-align: middle;\n    }\n\n    .dataframe tbody tr th {\n        vertical-align: top;\n    }\n\n    .dataframe thead th {\n        text-align: right;\n    }\n</style>\n<table border=\"1\" class=\"dataframe\">\n  <thead>\n    <tr style=\"text-align: right;\">\n      <th></th>\n      <th>code</th>\n      <th>latitude</th>\n      <th>longitude</th>\n      <th>state</th>\n    </tr>\n  </thead>\n  <tbody>\n    <tr>\n      <th>0</th>\n      <td>AK</td>\n      <td>63.588753</td>\n      <td>-154.493062</td>\n      <td>Alaska</td>\n    </tr>\n    <tr>\n      <th>1</th>\n      <td>AL</td>\n      <td>32.318231</td>\n      <td>-86.902298</td>\n      <td>Alabama</td>\n    </tr>\n    <tr>\n      <th>2</th>\n      <td>AR</td>\n      <td>35.201050</td>\n      <td>-91.831833</td>\n      <td>Arkansas</td>\n    </tr>\n    <tr>\n      <th>3</th>\n      <td>AZ</td>\n      <td>34.048928</td>\n      <td>-111.093731</td>\n      <td>Arizona</td>\n    </tr>\n    <tr>\n      <th>4</th>\n      <td>CA</td>\n      <td>36.778261</td>\n      <td>-119.417932</td>\n      <td>California</td>\n    </tr>\n  </tbody>\n</table>\n</div>"
     },
     "metadata": {},
     "execution_count": 117
    }
   ],
   "source": [
    "df1.head()\n"
   ]
  },
  {
   "cell_type": "code",
   "execution_count": 122,
   "metadata": {},
   "outputs": [
    {
     "output_type": "execute_result",
     "data": {
      "text/plain": [
       "             0        1     2      3\n",
       "0         NAME      POP  HISP  state\n",
       "1  Mississippi  2976149     0     28\n",
       "2     Missouri  6137428     0     29\n",
       "3      Montana  1068778     0     30\n",
       "4     Nebraska  1934408     0     31"
      ],
      "text/html": "<div>\n<style scoped>\n    .dataframe tbody tr th:only-of-type {\n        vertical-align: middle;\n    }\n\n    .dataframe tbody tr th {\n        vertical-align: top;\n    }\n\n    .dataframe thead th {\n        text-align: right;\n    }\n</style>\n<table border=\"1\" class=\"dataframe\">\n  <thead>\n    <tr style=\"text-align: right;\">\n      <th></th>\n      <th>0</th>\n      <th>1</th>\n      <th>2</th>\n      <th>3</th>\n    </tr>\n  </thead>\n  <tbody>\n    <tr>\n      <th>0</th>\n      <td>NAME</td>\n      <td>POP</td>\n      <td>HISP</td>\n      <td>state</td>\n    </tr>\n    <tr>\n      <th>1</th>\n      <td>Mississippi</td>\n      <td>2976149</td>\n      <td>0</td>\n      <td>28</td>\n    </tr>\n    <tr>\n      <th>2</th>\n      <td>Missouri</td>\n      <td>6137428</td>\n      <td>0</td>\n      <td>29</td>\n    </tr>\n    <tr>\n      <th>3</th>\n      <td>Montana</td>\n      <td>1068778</td>\n      <td>0</td>\n      <td>30</td>\n    </tr>\n    <tr>\n      <th>4</th>\n      <td>Nebraska</td>\n      <td>1934408</td>\n      <td>0</td>\n      <td>31</td>\n    </tr>\n  </tbody>\n</table>\n</div>"
     },
     "metadata": {},
     "execution_count": 122
    }
   ],
   "source": [
    "r = requests.get(\"https://api.census.gov/data/2019/pep/charagegroups?get=NAME,POP&HISP=0&for=state:*&key=64f1dfb2f21e446d237909b1045fcde98e66d4f8\")\n",
    "x = r.json()\n",
    "\n",
    "df2 = pd.DataFrame(x)\n",
    "df2.head()\n"
   ]
  },
  {
   "cell_type": "code",
   "execution_count": 123,
   "metadata": {},
   "outputs": [
    {
     "output_type": "execute_result",
     "data": {
      "text/plain": [
       "          NAME      POP  HISP  state\n",
       "0         NAME      POP  HISP  state\n",
       "1  Mississippi  2976149     0     28\n",
       "2     Missouri  6137428     0     29\n",
       "3      Montana  1068778     0     30\n",
       "4     Nebraska  1934408     0     31"
      ],
      "text/html": "<div>\n<style scoped>\n    .dataframe tbody tr th:only-of-type {\n        vertical-align: middle;\n    }\n\n    .dataframe tbody tr th {\n        vertical-align: top;\n    }\n\n    .dataframe thead th {\n        text-align: right;\n    }\n</style>\n<table border=\"1\" class=\"dataframe\">\n  <thead>\n    <tr style=\"text-align: right;\">\n      <th></th>\n      <th>NAME</th>\n      <th>POP</th>\n      <th>HISP</th>\n      <th>state</th>\n    </tr>\n  </thead>\n  <tbody>\n    <tr>\n      <th>0</th>\n      <td>NAME</td>\n      <td>POP</td>\n      <td>HISP</td>\n      <td>state</td>\n    </tr>\n    <tr>\n      <th>1</th>\n      <td>Mississippi</td>\n      <td>2976149</td>\n      <td>0</td>\n      <td>28</td>\n    </tr>\n    <tr>\n      <th>2</th>\n      <td>Missouri</td>\n      <td>6137428</td>\n      <td>0</td>\n      <td>29</td>\n    </tr>\n    <tr>\n      <th>3</th>\n      <td>Montana</td>\n      <td>1068778</td>\n      <td>0</td>\n      <td>30</td>\n    </tr>\n    <tr>\n      <th>4</th>\n      <td>Nebraska</td>\n      <td>1934408</td>\n      <td>0</td>\n      <td>31</td>\n    </tr>\n  </tbody>\n</table>\n</div>"
     },
     "metadata": {},
     "execution_count": 123
    }
   ],
   "source": [
    "\n",
    "df2 = df2.rename(columns=df2.iloc[0])\n",
    "df2.head()"
   ]
  },
  {
   "cell_type": "code",
   "execution_count": 128,
   "metadata": {},
   "outputs": [],
   "source": [
    "total_merged_inner = df1.merge(df2, left_on=\"state\" , right_on=\"NAME\")"
   ]
  },
  {
   "cell_type": "code",
   "execution_count": 130,
   "metadata": {},
   "outputs": [
    {
     "output_type": "execute_result",
     "data": {
      "text/plain": [
       "  code   latitude   longitude     state_x        NAME       POP HISP state_y\n",
       "0   AK  63.588753 -154.493062      Alaska      Alaska    731545    0      02\n",
       "1   AL  32.318231  -86.902298     Alabama     Alabama   4903185    0      01\n",
       "2   AR  35.201050  -91.831833    Arkansas    Arkansas   3017804    0      05\n",
       "3   AZ  34.048928 -111.093731     Arizona     Arizona   7278717    0      04\n",
       "4   CA  36.778261 -119.417932  California  California  39512223    0      06"
      ],
      "text/html": "<div>\n<style scoped>\n    .dataframe tbody tr th:only-of-type {\n        vertical-align: middle;\n    }\n\n    .dataframe tbody tr th {\n        vertical-align: top;\n    }\n\n    .dataframe thead th {\n        text-align: right;\n    }\n</style>\n<table border=\"1\" class=\"dataframe\">\n  <thead>\n    <tr style=\"text-align: right;\">\n      <th></th>\n      <th>code</th>\n      <th>latitude</th>\n      <th>longitude</th>\n      <th>state_x</th>\n      <th>NAME</th>\n      <th>POP</th>\n      <th>HISP</th>\n      <th>state_y</th>\n    </tr>\n  </thead>\n  <tbody>\n    <tr>\n      <th>0</th>\n      <td>AK</td>\n      <td>63.588753</td>\n      <td>-154.493062</td>\n      <td>Alaska</td>\n      <td>Alaska</td>\n      <td>731545</td>\n      <td>0</td>\n      <td>02</td>\n    </tr>\n    <tr>\n      <th>1</th>\n      <td>AL</td>\n      <td>32.318231</td>\n      <td>-86.902298</td>\n      <td>Alabama</td>\n      <td>Alabama</td>\n      <td>4903185</td>\n      <td>0</td>\n      <td>01</td>\n    </tr>\n    <tr>\n      <th>2</th>\n      <td>AR</td>\n      <td>35.201050</td>\n      <td>-91.831833</td>\n      <td>Arkansas</td>\n      <td>Arkansas</td>\n      <td>3017804</td>\n      <td>0</td>\n      <td>05</td>\n    </tr>\n    <tr>\n      <th>3</th>\n      <td>AZ</td>\n      <td>34.048928</td>\n      <td>-111.093731</td>\n      <td>Arizona</td>\n      <td>Arizona</td>\n      <td>7278717</td>\n      <td>0</td>\n      <td>04</td>\n    </tr>\n    <tr>\n      <th>4</th>\n      <td>CA</td>\n      <td>36.778261</td>\n      <td>-119.417932</td>\n      <td>California</td>\n      <td>California</td>\n      <td>39512223</td>\n      <td>0</td>\n      <td>06</td>\n    </tr>\n  </tbody>\n</table>\n</div>"
     },
     "metadata": {},
     "execution_count": 130
    }
   ],
   "source": [
    "total_merged_inner.head()"
   ]
  },
  {
   "cell_type": "code",
   "execution_count": 131,
   "metadata": {},
   "outputs": [
    {
     "output_type": "execute_result",
     "data": {
      "text/plain": [
       "             0        1     2      3\n",
       "0         NAME      POP  HISP  state\n",
       "1  Mississippi  2876039     1     28\n",
       "2     Missouri  5868720     1     29\n",
       "3      Montana  1025489     1     30\n",
       "4     Nebraska  1714763     1     31"
      ],
      "text/html": "<div>\n<style scoped>\n    .dataframe tbody tr th:only-of-type {\n        vertical-align: middle;\n    }\n\n    .dataframe tbody tr th {\n        vertical-align: top;\n    }\n\n    .dataframe thead th {\n        text-align: right;\n    }\n</style>\n<table border=\"1\" class=\"dataframe\">\n  <thead>\n    <tr style=\"text-align: right;\">\n      <th></th>\n      <th>0</th>\n      <th>1</th>\n      <th>2</th>\n      <th>3</th>\n    </tr>\n  </thead>\n  <tbody>\n    <tr>\n      <th>0</th>\n      <td>NAME</td>\n      <td>POP</td>\n      <td>HISP</td>\n      <td>state</td>\n    </tr>\n    <tr>\n      <th>1</th>\n      <td>Mississippi</td>\n      <td>2876039</td>\n      <td>1</td>\n      <td>28</td>\n    </tr>\n    <tr>\n      <th>2</th>\n      <td>Missouri</td>\n      <td>5868720</td>\n      <td>1</td>\n      <td>29</td>\n    </tr>\n    <tr>\n      <th>3</th>\n      <td>Montana</td>\n      <td>1025489</td>\n      <td>1</td>\n      <td>30</td>\n    </tr>\n    <tr>\n      <th>4</th>\n      <td>Nebraska</td>\n      <td>1714763</td>\n      <td>1</td>\n      <td>31</td>\n    </tr>\n  </tbody>\n</table>\n</div>"
     },
     "metadata": {},
     "execution_count": 131
    }
   ],
   "source": [
    "r = requests.get(\"https://api.census.gov/data/2019/pep/charagegroups?get=NAME,POP&HISP=1&for=state:*&key=64f1dfb2f21e446d237909b1045fcde98e66d4f8\")\n",
    "x = r.json()\n",
    "\n",
    "df3 = pd.DataFrame(x)\n",
    "df3.head()"
   ]
  },
  {
   "cell_type": "code",
   "execution_count": 132,
   "metadata": {},
   "outputs": [
    {
     "output_type": "execute_result",
     "data": {
      "text/plain": [
       "          NAME      POP  HISP  state\n",
       "0         NAME      POP  HISP  state\n",
       "1  Mississippi  2876039     1     28\n",
       "2     Missouri  5868720     1     29\n",
       "3      Montana  1025489     1     30\n",
       "4     Nebraska  1714763     1     31"
      ],
      "text/html": "<div>\n<style scoped>\n    .dataframe tbody tr th:only-of-type {\n        vertical-align: middle;\n    }\n\n    .dataframe tbody tr th {\n        vertical-align: top;\n    }\n\n    .dataframe thead th {\n        text-align: right;\n    }\n</style>\n<table border=\"1\" class=\"dataframe\">\n  <thead>\n    <tr style=\"text-align: right;\">\n      <th></th>\n      <th>NAME</th>\n      <th>POP</th>\n      <th>HISP</th>\n      <th>state</th>\n    </tr>\n  </thead>\n  <tbody>\n    <tr>\n      <th>0</th>\n      <td>NAME</td>\n      <td>POP</td>\n      <td>HISP</td>\n      <td>state</td>\n    </tr>\n    <tr>\n      <th>1</th>\n      <td>Mississippi</td>\n      <td>2876039</td>\n      <td>1</td>\n      <td>28</td>\n    </tr>\n    <tr>\n      <th>2</th>\n      <td>Missouri</td>\n      <td>5868720</td>\n      <td>1</td>\n      <td>29</td>\n    </tr>\n    <tr>\n      <th>3</th>\n      <td>Montana</td>\n      <td>1025489</td>\n      <td>1</td>\n      <td>30</td>\n    </tr>\n    <tr>\n      <th>4</th>\n      <td>Nebraska</td>\n      <td>1714763</td>\n      <td>1</td>\n      <td>31</td>\n    </tr>\n  </tbody>\n</table>\n</div>"
     },
     "metadata": {},
     "execution_count": 132
    }
   ],
   "source": [
    "df3 = df3.rename(columns=df3.iloc[0])\n",
    "df3.head()"
   ]
  },
  {
   "cell_type": "code",
   "execution_count": 134,
   "metadata": {},
   "outputs": [
    {
     "output_type": "execute_result",
     "data": {
      "text/plain": [
       "  code   latitude   longitude     state_x        NAME       POP HISP state_y\n",
       "0   AK  63.588753 -154.493062      Alaska      Alaska    678333    1      02\n",
       "1   AL  32.318231  -86.902298     Alabama     Alabama   4679907    1      01\n",
       "2   AR  35.201050  -91.831833    Arkansas    Arkansas   2781173    1      05\n",
       "3   AZ  34.048928 -111.093731     Arizona     Arizona   4968127    1      04\n",
       "4   CA  36.778261 -119.417932  California  California  23937343    1      06"
      ],
      "text/html": "<div>\n<style scoped>\n    .dataframe tbody tr th:only-of-type {\n        vertical-align: middle;\n    }\n\n    .dataframe tbody tr th {\n        vertical-align: top;\n    }\n\n    .dataframe thead th {\n        text-align: right;\n    }\n</style>\n<table border=\"1\" class=\"dataframe\">\n  <thead>\n    <tr style=\"text-align: right;\">\n      <th></th>\n      <th>code</th>\n      <th>latitude</th>\n      <th>longitude</th>\n      <th>state_x</th>\n      <th>NAME</th>\n      <th>POP</th>\n      <th>HISP</th>\n      <th>state_y</th>\n    </tr>\n  </thead>\n  <tbody>\n    <tr>\n      <th>0</th>\n      <td>AK</td>\n      <td>63.588753</td>\n      <td>-154.493062</td>\n      <td>Alaska</td>\n      <td>Alaska</td>\n      <td>678333</td>\n      <td>1</td>\n      <td>02</td>\n    </tr>\n    <tr>\n      <th>1</th>\n      <td>AL</td>\n      <td>32.318231</td>\n      <td>-86.902298</td>\n      <td>Alabama</td>\n      <td>Alabama</td>\n      <td>4679907</td>\n      <td>1</td>\n      <td>01</td>\n    </tr>\n    <tr>\n      <th>2</th>\n      <td>AR</td>\n      <td>35.201050</td>\n      <td>-91.831833</td>\n      <td>Arkansas</td>\n      <td>Arkansas</td>\n      <td>2781173</td>\n      <td>1</td>\n      <td>05</td>\n    </tr>\n    <tr>\n      <th>3</th>\n      <td>AZ</td>\n      <td>34.048928</td>\n      <td>-111.093731</td>\n      <td>Arizona</td>\n      <td>Arizona</td>\n      <td>4968127</td>\n      <td>1</td>\n      <td>04</td>\n    </tr>\n    <tr>\n      <th>4</th>\n      <td>CA</td>\n      <td>36.778261</td>\n      <td>-119.417932</td>\n      <td>California</td>\n      <td>California</td>\n      <td>23937343</td>\n      <td>1</td>\n      <td>06</td>\n    </tr>\n  </tbody>\n</table>\n</div>"
     },
     "metadata": {},
     "execution_count": 134
    }
   ],
   "source": [
    "nonHispanic_merged_inner = df1.merge(df3, left_on=\"state\" , right_on=\"NAME\")\n",
    "nonHispanic_merged_inner.head()"
   ]
  },
  {
   "cell_type": "code",
   "execution_count": 135,
   "metadata": {},
   "outputs": [
    {
     "output_type": "execute_result",
     "data": {
      "text/plain": [
       "             0       1     2      3\n",
       "0         NAME     POP  HISP  state\n",
       "1  Mississippi  100110     2     28\n",
       "2     Missouri  268708     2     29\n",
       "3      Montana   43289     2     30\n",
       "4     Nebraska  219645     2     31"
      ],
      "text/html": "<div>\n<style scoped>\n    .dataframe tbody tr th:only-of-type {\n        vertical-align: middle;\n    }\n\n    .dataframe tbody tr th {\n        vertical-align: top;\n    }\n\n    .dataframe thead th {\n        text-align: right;\n    }\n</style>\n<table border=\"1\" class=\"dataframe\">\n  <thead>\n    <tr style=\"text-align: right;\">\n      <th></th>\n      <th>0</th>\n      <th>1</th>\n      <th>2</th>\n      <th>3</th>\n    </tr>\n  </thead>\n  <tbody>\n    <tr>\n      <th>0</th>\n      <td>NAME</td>\n      <td>POP</td>\n      <td>HISP</td>\n      <td>state</td>\n    </tr>\n    <tr>\n      <th>1</th>\n      <td>Mississippi</td>\n      <td>100110</td>\n      <td>2</td>\n      <td>28</td>\n    </tr>\n    <tr>\n      <th>2</th>\n      <td>Missouri</td>\n      <td>268708</td>\n      <td>2</td>\n      <td>29</td>\n    </tr>\n    <tr>\n      <th>3</th>\n      <td>Montana</td>\n      <td>43289</td>\n      <td>2</td>\n      <td>30</td>\n    </tr>\n    <tr>\n      <th>4</th>\n      <td>Nebraska</td>\n      <td>219645</td>\n      <td>2</td>\n      <td>31</td>\n    </tr>\n  </tbody>\n</table>\n</div>"
     },
     "metadata": {},
     "execution_count": 135
    }
   ],
   "source": [
    "r = requests.get(\"https://api.census.gov/data/2019/pep/charagegroups?get=NAME,POP&HISP=2&for=state:*&key=64f1dfb2f21e446d237909b1045fcde98e66d4f8\")\n",
    "x = r.json()\n",
    "\n",
    "df4 = pd.DataFrame(x)\n",
    "df4.head()"
   ]
  },
  {
   "cell_type": "code",
   "execution_count": 136,
   "metadata": {},
   "outputs": [
    {
     "output_type": "execute_result",
     "data": {
      "text/plain": [
       "          NAME     POP  HISP  state\n",
       "0         NAME     POP  HISP  state\n",
       "1  Mississippi  100110     2     28\n",
       "2     Missouri  268708     2     29\n",
       "3      Montana   43289     2     30\n",
       "4     Nebraska  219645     2     31"
      ],
      "text/html": "<div>\n<style scoped>\n    .dataframe tbody tr th:only-of-type {\n        vertical-align: middle;\n    }\n\n    .dataframe tbody tr th {\n        vertical-align: top;\n    }\n\n    .dataframe thead th {\n        text-align: right;\n    }\n</style>\n<table border=\"1\" class=\"dataframe\">\n  <thead>\n    <tr style=\"text-align: right;\">\n      <th></th>\n      <th>NAME</th>\n      <th>POP</th>\n      <th>HISP</th>\n      <th>state</th>\n    </tr>\n  </thead>\n  <tbody>\n    <tr>\n      <th>0</th>\n      <td>NAME</td>\n      <td>POP</td>\n      <td>HISP</td>\n      <td>state</td>\n    </tr>\n    <tr>\n      <th>1</th>\n      <td>Mississippi</td>\n      <td>100110</td>\n      <td>2</td>\n      <td>28</td>\n    </tr>\n    <tr>\n      <th>2</th>\n      <td>Missouri</td>\n      <td>268708</td>\n      <td>2</td>\n      <td>29</td>\n    </tr>\n    <tr>\n      <th>3</th>\n      <td>Montana</td>\n      <td>43289</td>\n      <td>2</td>\n      <td>30</td>\n    </tr>\n    <tr>\n      <th>4</th>\n      <td>Nebraska</td>\n      <td>219645</td>\n      <td>2</td>\n      <td>31</td>\n    </tr>\n  </tbody>\n</table>\n</div>"
     },
     "metadata": {},
     "execution_count": 136
    }
   ],
   "source": [
    "df4 = df4.rename(columns=df4.iloc[0])\n",
    "df4.head()"
   ]
  },
  {
   "cell_type": "code",
   "execution_count": 137,
   "metadata": {},
   "outputs": [
    {
     "output_type": "execute_result",
     "data": {
      "text/plain": [
       "  code   latitude   longitude     state_x        NAME       POP HISP state_y\n",
       "0   AK  63.588753 -154.493062      Alaska      Alaska     53212    2      02\n",
       "1   AL  32.318231  -86.902298     Alabama     Alabama    223278    2      01\n",
       "2   AR  35.201050  -91.831833    Arkansas    Arkansas    236631    2      05\n",
       "3   AZ  34.048928 -111.093731     Arizona     Arizona   2310590    2      04\n",
       "4   CA  36.778261 -119.417932  California  California  15574880    2      06"
      ],
      "text/html": "<div>\n<style scoped>\n    .dataframe tbody tr th:only-of-type {\n        vertical-align: middle;\n    }\n\n    .dataframe tbody tr th {\n        vertical-align: top;\n    }\n\n    .dataframe thead th {\n        text-align: right;\n    }\n</style>\n<table border=\"1\" class=\"dataframe\">\n  <thead>\n    <tr style=\"text-align: right;\">\n      <th></th>\n      <th>code</th>\n      <th>latitude</th>\n      <th>longitude</th>\n      <th>state_x</th>\n      <th>NAME</th>\n      <th>POP</th>\n      <th>HISP</th>\n      <th>state_y</th>\n    </tr>\n  </thead>\n  <tbody>\n    <tr>\n      <th>0</th>\n      <td>AK</td>\n      <td>63.588753</td>\n      <td>-154.493062</td>\n      <td>Alaska</td>\n      <td>Alaska</td>\n      <td>53212</td>\n      <td>2</td>\n      <td>02</td>\n    </tr>\n    <tr>\n      <th>1</th>\n      <td>AL</td>\n      <td>32.318231</td>\n      <td>-86.902298</td>\n      <td>Alabama</td>\n      <td>Alabama</td>\n      <td>223278</td>\n      <td>2</td>\n      <td>01</td>\n    </tr>\n    <tr>\n      <th>2</th>\n      <td>AR</td>\n      <td>35.201050</td>\n      <td>-91.831833</td>\n      <td>Arkansas</td>\n      <td>Arkansas</td>\n      <td>236631</td>\n      <td>2</td>\n      <td>05</td>\n    </tr>\n    <tr>\n      <th>3</th>\n      <td>AZ</td>\n      <td>34.048928</td>\n      <td>-111.093731</td>\n      <td>Arizona</td>\n      <td>Arizona</td>\n      <td>2310590</td>\n      <td>2</td>\n      <td>04</td>\n    </tr>\n    <tr>\n      <th>4</th>\n      <td>CA</td>\n      <td>36.778261</td>\n      <td>-119.417932</td>\n      <td>California</td>\n      <td>California</td>\n      <td>15574880</td>\n      <td>2</td>\n      <td>06</td>\n    </tr>\n  </tbody>\n</table>\n</div>"
     },
     "metadata": {},
     "execution_count": 137
    }
   ],
   "source": [
    "Hispanic_merged_inner = df1.merge(df4, left_on=\"state\" , right_on=\"NAME\")\n",
    "Hispanic_merged_inner.head()"
   ]
  },
  {
   "cell_type": "code",
   "execution_count": null,
   "metadata": {},
   "outputs": [],
   "source": []
  }
 ]
}